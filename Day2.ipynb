{
 "cells": [
  {
   "cell_type": "code",
   "execution_count": 1,
   "id": "8b25d40a-5f72-4676-af5d-69104acd24b5",
   "metadata": {},
   "outputs": [],
   "source": [
    "a=10"
   ]
  },
  {
   "cell_type": "code",
   "execution_count": 2,
   "id": "df9b1a7a-80c1-452e-84ca-82910ff210b9",
   "metadata": {},
   "outputs": [
    {
     "data": {
      "text/plain": [
       "int"
      ]
     },
     "execution_count": 2,
     "metadata": {},
     "output_type": "execute_result"
    }
   ],
   "source": [
    "type(a)"
   ]
  },
  {
   "cell_type": "code",
   "execution_count": 3,
   "id": "93d3a013-5cb9-4c95-ac31-b1f4f60a265d",
   "metadata": {},
   "outputs": [],
   "source": [
    "a='c'"
   ]
  },
  {
   "cell_type": "code",
   "execution_count": 4,
   "id": "ee29b975-f16d-4c89-a30f-851e1752c9e1",
   "metadata": {},
   "outputs": [
    {
     "data": {
      "text/plain": [
       "str"
      ]
     },
     "execution_count": 4,
     "metadata": {},
     "output_type": "execute_result"
    }
   ],
   "source": [
    "type(a)"
   ]
  },
  {
   "cell_type": "code",
   "execution_count": 6,
   "id": "39cee0a5-cf73-4782-875f-f8a01e1f25bc",
   "metadata": {},
   "outputs": [
    {
     "data": {
      "text/plain": [
       "123"
      ]
     },
     "execution_count": 6,
     "metadata": {},
     "output_type": "execute_result"
    }
   ],
   "source": [
    "int('123') "
   ]
  },
  {
   "cell_type": "code",
   "execution_count": 7,
   "id": "9f570a18-70fb-4b3e-b414-c0e348fcb21b",
   "metadata": {},
   "outputs": [
    {
     "ename": "ValueError",
     "evalue": "invalid literal for int() with base 10: 'abcd'",
     "output_type": "error",
     "traceback": [
      "\u001b[0;31m---------------------------------------------------------------------------\u001b[0m",
      "\u001b[0;31mValueError\u001b[0m                                Traceback (most recent call last)",
      "Cell \u001b[0;32mIn[7], line 1\u001b[0m\n\u001b[0;32m----> 1\u001b[0m \u001b[38;5;28;43mint\u001b[39;49m\u001b[43m(\u001b[49m\u001b[38;5;124;43m'\u001b[39;49m\u001b[38;5;124;43mabcd\u001b[39;49m\u001b[38;5;124;43m'\u001b[39;49m\u001b[43m)\u001b[49m\n",
      "\u001b[0;31mValueError\u001b[0m: invalid literal for int() with base 10: 'abcd'"
     ]
    }
   ],
   "source": [
    "int('abcd')"
   ]
  },
  {
   "cell_type": "code",
   "execution_count": 8,
   "id": "adae9e6b-df20-483a-98e7-a12ad4dec9b6",
   "metadata": {},
   "outputs": [
    {
     "name": "stdout",
     "output_type": "stream",
     "text": [
      "Hello world\n"
     ]
    }
   ],
   "source": [
    "print('Hello world')"
   ]
  },
  {
   "cell_type": "code",
   "execution_count": 9,
   "id": "287ce1fb-e403-490c-bf6d-63610fa1f1a2",
   "metadata": {},
   "outputs": [
    {
     "name": "stdout",
     "output_type": "stream",
     "text": [
      "123\n"
     ]
    }
   ],
   "source": [
    "print(123)"
   ]
  },
  {
   "cell_type": "code",
   "execution_count": 11,
   "id": "cfbaaca9-8ac1-4bb0-ba46-070537b1a70a",
   "metadata": {},
   "outputs": [
    {
     "name": "stdout",
     "output_type": "stream",
     "text": [
      "My age is: 34\n"
     ]
    }
   ],
   "source": [
    "age=34\n",
    "print('My age is:',age)"
   ]
  },
  {
   "cell_type": "code",
   "execution_count": 13,
   "id": "909e9924-14ec-4413-a4fd-97d7bda891a2",
   "metadata": {},
   "outputs": [
    {
     "name": "stdout",
     "output_type": "stream",
     "text": [
      "My age is :34\n"
     ]
    }
   ],
   "source": [
    "## f string is use for formatting\n",
    "print(f'My age is :{age}')"
   ]
  },
  {
   "cell_type": "code",
   "execution_count": 14,
   "id": "93e7e594-5f91-4911-bf03-62e3c862224c",
   "metadata": {},
   "outputs": [
    {
     "name": "stdout",
     "output_type": "stream",
     "text": [
      "My Name is Rohit and Age is 32\n"
     ]
    }
   ],
   "source": [
    "## format()\n",
    "name='Rohit'\n",
    "age=32\n",
    "print('My Name is {} and Age is {}'.format(name,age))"
   ]
  },
  {
   "cell_type": "code",
   "execution_count": 15,
   "id": "e0439d6e-3b85-4889-b506-16a2be7da14f",
   "metadata": {},
   "outputs": [
    {
     "name": "stdout",
     "output_type": "stream",
     "text": [
      "My Name is Rohit and Age is 32\n"
     ]
    }
   ],
   "source": [
    "## placeholder()\n",
    "print('My Name is {firstname} and Age is {firstage}'.format(firstname=name,firstage=age))"
   ]
  },
  {
   "cell_type": "code",
   "execution_count": 20,
   "id": "d79f11b4-d4b1-4425-90cb-499ef66da9a9",
   "metadata": {},
   "outputs": [
    {
     "name": "stdout",
     "output_type": "stream",
     "text": [
      "My age is 34 and I have completed my degree of BCA with the name of Rohit Kshirsagar\n",
      "My age is 34 and I have completed my degree of BCA with the name of Rohit Kshirsagar\n",
      "My age is 34 and I have completed my degree of BCA with the name of Rohit Kshirsagar\n"
     ]
    }
   ],
   "source": [
    "name='Rohit Kshirsagar'\n",
    "age=34\n",
    "degree='BCA'\n",
    "\n",
    "print(f'My age is {age} and I have completed my degree of {degree} with the name of {name}') \n",
    "print('My age is {} and I have completed my degree of {} with the name of {}'.format(age,degree,name))\n",
    "print('My age is {firstage} and I have completed my degree of {firstdegree} with the name of {firstname}'.format(firstname=name,firstage=age,firstdegree=degree))"
   ]
  },
  {
   "cell_type": "markdown",
   "id": "6595d403-5e64-4d55-8e58-aa0164ac2791",
   "metadata": {},
   "source": [
    "## Control Flow"
   ]
  },
  {
   "cell_type": "code",
   "execution_count": 22,
   "id": "4433c828-7471-4e79-93ec-c7373fb7b1f2",
   "metadata": {},
   "outputs": [
    {
     "name": "stdout",
     "output_type": "stream",
     "text": [
      "You are eligible to vote\n"
     ]
    }
   ],
   "source": [
    "## If statement\n",
    "\n",
    "age=18\n",
    "if age>=18:\n",
    "    print(\"You are eligible to vote\")\n"
   ]
  },
  {
   "cell_type": "code",
   "execution_count": 23,
   "id": "b0a262a4-ebdf-482f-a325-95287c193551",
   "metadata": {},
   "outputs": [
    {
     "name": "stdin",
     "output_type": "stream",
     "text": [
      " Rohit Kshirsagar\n"
     ]
    },
    {
     "data": {
      "text/plain": [
       "'Rohit Kshirsagar'"
      ]
     },
     "execution_count": 23,
     "metadata": {},
     "output_type": "execute_result"
    }
   ],
   "source": [
    "input()"
   ]
  },
  {
   "cell_type": "code",
   "execution_count": 24,
   "id": "5c33fd86-4c03-4625-bd63-ce799a56422d",
   "metadata": {},
   "outputs": [
    {
     "name": "stdin",
     "output_type": "stream",
     "text": [
      "Enter the name Rohit Kshirsagar\n"
     ]
    }
   ],
   "source": [
    "name=input('Enter the name')"
   ]
  },
  {
   "cell_type": "code",
   "execution_count": 25,
   "id": "3924ee81-dfa5-4d88-9a01-c6b9fd19de16",
   "metadata": {},
   "outputs": [
    {
     "data": {
      "text/plain": [
       "'Rohit Kshirsagar'"
      ]
     },
     "execution_count": 25,
     "metadata": {},
     "output_type": "execute_result"
    }
   ],
   "source": [
    "name"
   ]
  },
  {
   "cell_type": "code",
   "execution_count": 26,
   "id": "340838a9-c678-4844-82ad-4417b69b768e",
   "metadata": {},
   "outputs": [
    {
     "data": {
      "text/plain": [
       "str"
      ]
     },
     "execution_count": 26,
     "metadata": {},
     "output_type": "execute_result"
    }
   ],
   "source": [
    "type(name)"
   ]
  },
  {
   "cell_type": "code",
   "execution_count": 30,
   "id": "0b159f7c-6d26-45b7-8115-bde45b6d5602",
   "metadata": {},
   "outputs": [
    {
     "name": "stdin",
     "output_type": "stream",
     "text": [
      "Enter your age 34\n"
     ]
    }
   ],
   "source": [
    "age=int(input('Enter your age'))"
   ]
  },
  {
   "cell_type": "code",
   "execution_count": 33,
   "id": "eaf4aa74-4866-41f3-a064-8127b134ae10",
   "metadata": {},
   "outputs": [
    {
     "data": {
      "text/plain": [
       "int"
      ]
     },
     "execution_count": 33,
     "metadata": {},
     "output_type": "execute_result"
    }
   ],
   "source": [
    "type(age)"
   ]
  },
  {
   "cell_type": "code",
   "execution_count": 34,
   "id": "d3cb8d43-46ff-44f0-a47c-fc904b039011",
   "metadata": {},
   "outputs": [],
   "source": [
    "## Task \n",
    "## Take a input of age\n",
    "## Check wheteher age >=18 and age <=32\n",
    "## Display a message - You are young blood"
   ]
  },
  {
   "cell_type": "code",
   "execution_count": 41,
   "id": "f147fb38-10d9-4250-a9c7-bf8a407524be",
   "metadata": {},
   "outputs": [
    {
     "name": "stdin",
     "output_type": "stream",
     "text": [
      "Please enter your age  46\n"
     ]
    }
   ],
   "source": [
    "age=int(input('Please enter your age '))\n",
    "if age>=18 and age<=42:\n",
    "    print('You are young blood') "
   ]
  },
  {
   "cell_type": "code",
   "execution_count": 43,
   "id": "2d116632-374c-4325-86eb-16b5def74e9e",
   "metadata": {},
   "outputs": [
    {
     "name": "stdin",
     "output_type": "stream",
     "text": [
      "Please enter your age  17\n"
     ]
    },
    {
     "name": "stdout",
     "output_type": "stream",
     "text": [
      "Thank you are application is rejected\n"
     ]
    }
   ],
   "source": [
    "## if-else statement\n",
    "\n",
    "age=int(input('Please enter your age '))\n",
    "if age>=18 and age<=42:\n",
    "    print('You are young blood') \n",
    "else:\n",
    "    print('Thank you are application is rejected')"
   ]
  },
  {
   "cell_type": "code",
   "execution_count": 50,
   "id": "08da1131-ca86-4d71-8533-9c7b04e06dd1",
   "metadata": {},
   "outputs": [
    {
     "name": "stdin",
     "output_type": "stream",
     "text": [
      "Enter the product price :  3500\n"
     ]
    },
    {
     "name": "stdout",
     "output_type": "stream",
     "text": [
      "Price of the product after discount is :2800.0 \n"
     ]
    }
   ],
   "source": [
    "## mall - input the product price \n",
    "## product > 1000 rs 20% off\n",
    "## print the product price after discount \n",
    "## product <=1000 rs  30% off\n",
    "## print the product price after discount\n",
    "\n",
    "price=int(input('Enter the product price : '))\n",
    "if price>1000:\n",
    "    print('Price of the product after discount is :{} '.format(price*0.8)) \n",
    "else: \n",
    "    print('Price of the product after discount is :{} '.format(price*0.7))"
   ]
  },
  {
   "cell_type": "code",
   "execution_count": 51,
   "id": "fea50ce2-c2ac-462e-8af1-faef40c9fe42",
   "metadata": {},
   "outputs": [],
   "source": [
    "## mall - input the product price \n",
    "## product > 3000 rs 20% off\n",
    "## print the product price after discount \n",
    "## product >= 2000 rs and price<=3000 30% off\n",
    "## product == 2999 - YOu will get an additional gift\n",
    "## print the product price after discount \n",
    "## product <=1000 rs and <=2000 40% off\n",
    "## print the product price after discount"
   ]
  },
  {
   "cell_type": "code",
   "execution_count": 57,
   "id": "f3e12525-8b15-4a04-9478-69f481fd3ead",
   "metadata": {},
   "outputs": [
    {
     "name": "stdin",
     "output_type": "stream",
     "text": [
      "Enter the product price :  2999\n"
     ]
    },
    {
     "name": "stdout",
     "output_type": "stream",
     "text": [
      "You will get an additional gift\n",
      "Price of the product after discount is :2099.2999999999997 \n"
     ]
    }
   ],
   "source": [
    "price=int(input('Enter the product price : '))\n",
    "if price>3000:\n",
    "    print('Price of the product after discount is :{} '.format(price*0.8)) \n",
    "elif price>=2000 and price<=3000: \n",
    "    if price==2999:\n",
    "        print('You will get an additional gift')\n",
    "    print('Price of the product after discount is :{} '.format(price*0.7)) \n",
    "elif price>=100 and price<2000:    \n",
    "    print('Price of the product after discount is :{} '.format(price*0.6)) \n",
    "else: \n",
    "    print('Lets Drink tea')"
   ]
  },
  {
   "cell_type": "code",
   "execution_count": null,
   "id": "0d21f6d3-b291-4b98-8953-7026c52aadeb",
   "metadata": {},
   "outputs": [],
   "source": []
  }
 ],
 "metadata": {
  "kernelspec": {
   "display_name": "Python 3 (ipykernel)",
   "language": "python",
   "name": "python3"
  },
  "language_info": {
   "codemirror_mode": {
    "name": "ipython",
    "version": 3
   },
   "file_extension": ".py",
   "mimetype": "text/x-python",
   "name": "python",
   "nbconvert_exporter": "python",
   "pygments_lexer": "ipython3",
   "version": "3.10.8"
  }
 },
 "nbformat": 4,
 "nbformat_minor": 5
}
