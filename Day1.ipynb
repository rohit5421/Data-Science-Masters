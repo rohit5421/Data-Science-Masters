{
 "cells": [
  {
   "cell_type": "code",
   "execution_count": 6,
   "id": "8e94b8ef-87d7-4f6f-bf5b-36297b5f61ed",
   "metadata": {},
   "outputs": [
    {
     "data": {
      "text/plain": [
       "2"
      ]
     },
     "execution_count": 6,
     "metadata": {},
     "output_type": "execute_result"
    }
   ],
   "source": [
    "1+1"
   ]
  },
  {
   "cell_type": "markdown",
   "id": "10ab3003-07d6-4fb1-9405-1808a837bcb6",
   "metadata": {},
   "source": [
    "### Numbers"
   ]
  },
  {
   "cell_type": "code",
   "execution_count": 8,
   "id": "c2955fa1-3471-4227-b48e-c785922998b6",
   "metadata": {},
   "outputs": [
    {
     "name": "stdout",
     "output_type": "stream",
     "text": [
      "4\n"
     ]
    }
   ],
   "source": [
    "print(1+3)"
   ]
  },
  {
   "cell_type": "code",
   "execution_count": 10,
   "id": "814b9f0a-b810-435d-a0aa-203b7053fff4",
   "metadata": {},
   "outputs": [
    {
     "name": "stdout",
     "output_type": "stream",
     "text": [
      "Hello World\n"
     ]
    }
   ],
   "source": [
    "print (\"Hello World\")"
   ]
  },
  {
   "cell_type": "markdown",
   "id": "7843c985-5e95-47b7-aa56-c909f1511343",
   "metadata": {},
   "source": [
    "## Variable assignment"
   ]
  },
  {
   "cell_type": "code",
   "execution_count": 20,
   "id": "42f0959f-013e-4199-a080-70446b017eb1",
   "metadata": {},
   "outputs": [
    {
     "data": {
      "text/plain": [
       "str"
      ]
     },
     "execution_count": 20,
     "metadata": {},
     "output_type": "execute_result"
    }
   ],
   "source": [
    "type('')"
   ]
  },
  {
   "cell_type": "code",
   "execution_count": 24,
   "id": "9c9a8e84-aa69-422d-8031-4f26e7072271",
   "metadata": {},
   "outputs": [
    {
     "data": {
      "text/plain": [
       "'Rohit'"
      ]
     },
     "execution_count": 24,
     "metadata": {},
     "output_type": "execute_result"
    }
   ],
   "source": [
    "name"
   ]
  },
  {
   "cell_type": "code",
   "execution_count": 18,
   "id": "bc64a9d7-26ab-4128-af91-d6f2eb25612c",
   "metadata": {},
   "outputs": [],
   "source": [
    "name=\"Rohit\"\n",
    "company=\"HSBC\" "
   ]
  },
  {
   "cell_type": "markdown",
   "id": "6c49f09a-e6e9-4976-8814-35e3b7134b8c",
   "metadata": {},
   "source": [
    "### Dynamic Typing"
   ]
  },
  {
   "cell_type": "code",
   "execution_count": null,
   "id": "f335d701-5d95-4531-a882-170d4f4d8c4e",
   "metadata": {},
   "outputs": [],
   "source": []
  },
  {
   "cell_type": "code",
   "execution_count": null,
   "id": "f2a46309-a922-41d7-90c7-011dc46477a6",
   "metadata": {},
   "outputs": [],
   "source": []
  },
  {
   "cell_type": "code",
   "execution_count": 25,
   "id": "d2ab9b32-64b4-4931-babd-eb2d0e45148a",
   "metadata": {},
   "outputs": [],
   "source": [
    "a=12\n",
    "str1=\"Rohit\""
   ]
  },
  {
   "cell_type": "markdown",
   "id": "7a6c25f6-156f-4a90-a72a-83d0eaae7b3e",
   "metadata": {},
   "source": [
    "# Hello \n",
    "## Hello1 \n",
    "### Hello2 \n",
    "1. this is my lab\n",
    "2. FOr pyhton purpose"
   ]
  }
 ],
 "metadata": {
  "kernelspec": {
   "display_name": "Python 3 (ipykernel)",
   "language": "python",
   "name": "python3"
  },
  "language_info": {
   "codemirror_mode": {
    "name": "ipython",
    "version": 3
   },
   "file_extension": ".py",
   "mimetype": "text/x-python",
   "name": "python",
   "nbconvert_exporter": "python",
   "pygments_lexer": "ipython3",
   "version": "3.10.8"
  }
 },
 "nbformat": 4,
 "nbformat_minor": 5
}
